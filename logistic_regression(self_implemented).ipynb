{
  "nbformat": 4,
  "nbformat_minor": 0,
  "metadata": {
    "colab": {
      "provenance": [],
      "authorship_tag": "ABX9TyMZNNvOyaHkHHS5EAekrCvA",
      "include_colab_link": true
    },
    "kernelspec": {
      "name": "python3",
      "display_name": "Python 3"
    },
    "language_info": {
      "name": "python"
    }
  },
  "cells": [
    {
      "cell_type": "markdown",
      "metadata": {
        "id": "view-in-github",
        "colab_type": "text"
      },
      "source": [
        "<a href=\"https://colab.research.google.com/github/infamous001/acm_project/blob/main/logistic_regression(self_implemented).ipynb\" target=\"_parent\"><img src=\"https://colab.research.google.com/assets/colab-badge.svg\" alt=\"Open In Colab\"/></a>"
      ]
    },
    {
      "cell_type": "code",
      "source": [
        "import numpy as np\n",
        "import matplotlib.pyplot as plt\n",
        "import pandas as pd"
      ],
      "metadata": {
        "id": "SDKjuRjsUgdc"
      },
      "execution_count": 93,
      "outputs": []
    },
    {
      "cell_type": "code",
      "source": [
        "dataset=pd.read_csv(\"IRIS.csv\")\n",
        "dataset.head()"
      ],
      "metadata": {
        "colab": {
          "base_uri": "https://localhost:8080/",
          "height": 201
        },
        "id": "DgXenFz7UqBL",
        "outputId": "52647e76-ba67-4ca7-b86a-42407c5b095d"
      },
      "execution_count": 94,
      "outputs": [
        {
          "output_type": "execute_result",
          "data": {
            "text/plain": [
              "   sepal_length  sepal_width  petal_length  petal_width      species\n",
              "0           5.1          3.5           1.4          0.2  Iris-setosa\n",
              "1           4.9          3.0           1.4          0.2  Iris-setosa\n",
              "2           4.7          3.2           1.3          0.2  Iris-setosa\n",
              "3           4.6          3.1           1.5          0.2  Iris-setosa\n",
              "4           5.0          3.6           1.4          0.2  Iris-setosa"
            ],
            "text/html": [
              "\n",
              "  <div id=\"df-c3ec0744-d808-4f58-8efd-d66cf18d66a1\">\n",
              "    <div class=\"colab-df-container\">\n",
              "      <div>\n",
              "<style scoped>\n",
              "    .dataframe tbody tr th:only-of-type {\n",
              "        vertical-align: middle;\n",
              "    }\n",
              "\n",
              "    .dataframe tbody tr th {\n",
              "        vertical-align: top;\n",
              "    }\n",
              "\n",
              "    .dataframe thead th {\n",
              "        text-align: right;\n",
              "    }\n",
              "</style>\n",
              "<table border=\"1\" class=\"dataframe\">\n",
              "  <thead>\n",
              "    <tr style=\"text-align: right;\">\n",
              "      <th></th>\n",
              "      <th>sepal_length</th>\n",
              "      <th>sepal_width</th>\n",
              "      <th>petal_length</th>\n",
              "      <th>petal_width</th>\n",
              "      <th>species</th>\n",
              "    </tr>\n",
              "  </thead>\n",
              "  <tbody>\n",
              "    <tr>\n",
              "      <th>0</th>\n",
              "      <td>5.1</td>\n",
              "      <td>3.5</td>\n",
              "      <td>1.4</td>\n",
              "      <td>0.2</td>\n",
              "      <td>Iris-setosa</td>\n",
              "    </tr>\n",
              "    <tr>\n",
              "      <th>1</th>\n",
              "      <td>4.9</td>\n",
              "      <td>3.0</td>\n",
              "      <td>1.4</td>\n",
              "      <td>0.2</td>\n",
              "      <td>Iris-setosa</td>\n",
              "    </tr>\n",
              "    <tr>\n",
              "      <th>2</th>\n",
              "      <td>4.7</td>\n",
              "      <td>3.2</td>\n",
              "      <td>1.3</td>\n",
              "      <td>0.2</td>\n",
              "      <td>Iris-setosa</td>\n",
              "    </tr>\n",
              "    <tr>\n",
              "      <th>3</th>\n",
              "      <td>4.6</td>\n",
              "      <td>3.1</td>\n",
              "      <td>1.5</td>\n",
              "      <td>0.2</td>\n",
              "      <td>Iris-setosa</td>\n",
              "    </tr>\n",
              "    <tr>\n",
              "      <th>4</th>\n",
              "      <td>5.0</td>\n",
              "      <td>3.6</td>\n",
              "      <td>1.4</td>\n",
              "      <td>0.2</td>\n",
              "      <td>Iris-setosa</td>\n",
              "    </tr>\n",
              "  </tbody>\n",
              "</table>\n",
              "</div>\n",
              "      <button class=\"colab-df-convert\" onclick=\"convertToInteractive('df-c3ec0744-d808-4f58-8efd-d66cf18d66a1')\"\n",
              "              title=\"Convert this dataframe to an interactive table.\"\n",
              "              style=\"display:none;\">\n",
              "        \n",
              "  <svg xmlns=\"http://www.w3.org/2000/svg\" height=\"24px\"viewBox=\"0 0 24 24\"\n",
              "       width=\"24px\">\n",
              "    <path d=\"M0 0h24v24H0V0z\" fill=\"none\"/>\n",
              "    <path d=\"M18.56 5.44l.94 2.06.94-2.06 2.06-.94-2.06-.94-.94-2.06-.94 2.06-2.06.94zm-11 1L8.5 8.5l.94-2.06 2.06-.94-2.06-.94L8.5 2.5l-.94 2.06-2.06.94zm10 10l.94 2.06.94-2.06 2.06-.94-2.06-.94-.94-2.06-.94 2.06-2.06.94z\"/><path d=\"M17.41 7.96l-1.37-1.37c-.4-.4-.92-.59-1.43-.59-.52 0-1.04.2-1.43.59L10.3 9.45l-7.72 7.72c-.78.78-.78 2.05 0 2.83L4 21.41c.39.39.9.59 1.41.59.51 0 1.02-.2 1.41-.59l7.78-7.78 2.81-2.81c.8-.78.8-2.07 0-2.86zM5.41 20L4 18.59l7.72-7.72 1.47 1.35L5.41 20z\"/>\n",
              "  </svg>\n",
              "      </button>\n",
              "      \n",
              "  <style>\n",
              "    .colab-df-container {\n",
              "      display:flex;\n",
              "      flex-wrap:wrap;\n",
              "      gap: 12px;\n",
              "    }\n",
              "\n",
              "    .colab-df-convert {\n",
              "      background-color: #E8F0FE;\n",
              "      border: none;\n",
              "      border-radius: 50%;\n",
              "      cursor: pointer;\n",
              "      display: none;\n",
              "      fill: #1967D2;\n",
              "      height: 32px;\n",
              "      padding: 0 0 0 0;\n",
              "      width: 32px;\n",
              "    }\n",
              "\n",
              "    .colab-df-convert:hover {\n",
              "      background-color: #E2EBFA;\n",
              "      box-shadow: 0px 1px 2px rgba(60, 64, 67, 0.3), 0px 1px 3px 1px rgba(60, 64, 67, 0.15);\n",
              "      fill: #174EA6;\n",
              "    }\n",
              "\n",
              "    [theme=dark] .colab-df-convert {\n",
              "      background-color: #3B4455;\n",
              "      fill: #D2E3FC;\n",
              "    }\n",
              "\n",
              "    [theme=dark] .colab-df-convert:hover {\n",
              "      background-color: #434B5C;\n",
              "      box-shadow: 0px 1px 3px 1px rgba(0, 0, 0, 0.15);\n",
              "      filter: drop-shadow(0px 1px 2px rgba(0, 0, 0, 0.3));\n",
              "      fill: #FFFFFF;\n",
              "    }\n",
              "  </style>\n",
              "\n",
              "      <script>\n",
              "        const buttonEl =\n",
              "          document.querySelector('#df-c3ec0744-d808-4f58-8efd-d66cf18d66a1 button.colab-df-convert');\n",
              "        buttonEl.style.display =\n",
              "          google.colab.kernel.accessAllowed ? 'block' : 'none';\n",
              "\n",
              "        async function convertToInteractive(key) {\n",
              "          const element = document.querySelector('#df-c3ec0744-d808-4f58-8efd-d66cf18d66a1');\n",
              "          const dataTable =\n",
              "            await google.colab.kernel.invokeFunction('convertToInteractive',\n",
              "                                                     [key], {});\n",
              "          if (!dataTable) return;\n",
              "\n",
              "          const docLinkHtml = 'Like what you see? Visit the ' +\n",
              "            '<a target=\"_blank\" href=https://colab.research.google.com/notebooks/data_table.ipynb>data table notebook</a>'\n",
              "            + ' to learn more about interactive tables.';\n",
              "          element.innerHTML = '';\n",
              "          dataTable['output_type'] = 'display_data';\n",
              "          await google.colab.output.renderOutput(dataTable, element);\n",
              "          const docLink = document.createElement('div');\n",
              "          docLink.innerHTML = docLinkHtml;\n",
              "          element.appendChild(docLink);\n",
              "        }\n",
              "      </script>\n",
              "    </div>\n",
              "  </div>\n",
              "  "
            ]
          },
          "metadata": {},
          "execution_count": 94
        }
      ]
    },
    {
      "cell_type": "code",
      "source": [
        "x=dataset.iloc[:,:-1].values\n",
        "yoriginal=dataset.iloc[:,-1].values"
      ],
      "metadata": {
        "id": "aTPrkx0QVgF4"
      },
      "execution_count": 95,
      "outputs": []
    },
    {
      "cell_type": "code",
      "source": [
        "print(x[:5])"
      ],
      "metadata": {
        "colab": {
          "base_uri": "https://localhost:8080/"
        },
        "id": "eXIXMzn-VqHt",
        "outputId": "51a13489-8086-4026-8902-ab67b5d0bb8d"
      },
      "execution_count": 96,
      "outputs": [
        {
          "output_type": "stream",
          "name": "stdout",
          "text": [
            "[[5.1 3.5 1.4 0.2]\n",
            " [4.9 3.  1.4 0.2]\n",
            " [4.7 3.2 1.3 0.2]\n",
            " [4.6 3.1 1.5 0.2]\n",
            " [5.  3.6 1.4 0.2]]\n"
          ]
        }
      ]
    },
    {
      "cell_type": "code",
      "source": [
        "print(yoriginal[:5])"
      ],
      "metadata": {
        "colab": {
          "base_uri": "https://localhost:8080/"
        },
        "id": "Lwfw-HKuVukb",
        "outputId": "82b69a95-046f-4d64-b92b-52440eb0e301"
      },
      "execution_count": 97,
      "outputs": [
        {
          "output_type": "stream",
          "name": "stdout",
          "text": [
            "['Iris-setosa' 'Iris-setosa' 'Iris-setosa' 'Iris-setosa' 'Iris-setosa']\n"
          ]
        }
      ]
    },
    {
      "cell_type": "code",
      "source": [
        "from sklearn.compose import ColumnTransformer\n",
        "from sklearn.preprocessing import OneHotEncoder\n",
        "ct = ColumnTransformer(transformers=[('encoder', OneHotEncoder(), [0])], remainder='passthrough')\n",
        "y = np.array(ct.fit_transform(yoriginal.reshape(len(yoriginal),-1)))"
      ],
      "metadata": {
        "id": "K5sTFUQMVyfY"
      },
      "execution_count": 98,
      "outputs": []
    },
    {
      "cell_type": "code",
      "source": [
        "print(y[:5])"
      ],
      "metadata": {
        "colab": {
          "base_uri": "https://localhost:8080/"
        },
        "id": "riS0ZDtKYXn9",
        "outputId": "8567187a-9088-4920-878a-6b96938dcc34"
      },
      "execution_count": 99,
      "outputs": [
        {
          "output_type": "stream",
          "name": "stdout",
          "text": [
            "[[1. 0. 0.]\n",
            " [1. 0. 0.]\n",
            " [1. 0. 0.]\n",
            " [1. 0. 0.]\n",
            " [1. 0. 0.]]\n"
          ]
        }
      ]
    },
    {
      "cell_type": "code",
      "execution_count": 100,
      "metadata": {
        "id": "t_bhee8qTUvg"
      },
      "outputs": [],
      "source": [
        "def sigmoid(z):\n",
        "  g=1/(1+np.exp(-z))\n",
        "  return g"
      ]
    },
    {
      "cell_type": "code",
      "source": [
        "def compute_cost(X, y, w, b, lambda_= 1):\n",
        "    m, n = X.shape\n",
        "    \n",
        "    loss_sum=0\n",
        "    for i in range(m):\n",
        "        z_wb=0\n",
        "        loss=0\n",
        "        for j in range(n):\n",
        "            z_w_ij=w[j]*X[i][j]\n",
        "            z_wb+=z_w_ij\n",
        "        z_wb+=b\n",
        "        f_wb=sigmoid(z_wb)\n",
        "        loss+= -y[i] * np.log(f_wb) - (1 - y[i]) * np.log(1 - f_wb)\n",
        "        loss_sum+=loss\n",
        "    total_cost=(1/m)*loss_sum\n",
        "\n",
        "    return total_cost"
      ],
      "metadata": {
        "id": "p2tohsb8USc0"
      },
      "execution_count": 101,
      "outputs": []
    },
    {
      "cell_type": "code",
      "source": [
        "def compute_gradient(X, y, w, b, lambda_=None): \n",
        "    m, n = X.shape\n",
        "    dj_dw = np.zeros(w.shape)\n",
        "    dj_db = 0. \n",
        "    for i in range(m):\n",
        "        z_wb = 0\n",
        "        for j in range(n): \n",
        "            z_w_ij=w[j]*X[i][j]\n",
        "            z_wb+=z_w_ij\n",
        "        z_wb+=b\n",
        "        f_wb=sigmoid(z_wb)\n",
        "        \n",
        "        dj_db_i = f_wb-y[i]\n",
        "        dj_db += dj_db_i\n",
        "        \n",
        "        for j in range(n):\n",
        "            dj_dw_ij = (f_wb - y[i])* X[i][j]\n",
        "            dj_dw[j]+=dj_dw_ij \n",
        "            \n",
        "    dj_dw = dj_dw/m\n",
        "    dj_db = dj_db/m\n",
        "    return dj_db,dj_dw"
      ],
      "metadata": {
        "id": "85sfBdGKUXcm"
      },
      "execution_count": 102,
      "outputs": []
    },
    {
      "cell_type": "code",
      "source": [
        "import math\n",
        "def gradient_descent(X, y, w_in, b_in, cost_function, gradient_function, alpha, num_iters, lambda_): \n",
        "    m = len(X)\n",
        "    \n",
        "    J_history = []\n",
        "    w_history = []\n",
        "    \n",
        "    for i in range(num_iters):\n",
        "        dj_db, dj_dw = gradient_function(X, y, w_in, b_in, lambda_)   \n",
        "        w_in = w_in - alpha * dj_dw               \n",
        "        b_in = b_in - alpha * dj_db              \n",
        "\n",
        "        if i<100000:  \n",
        "            cost =  cost_function(X, y, w_in, b_in, lambda_)\n",
        "            J_history.append(cost)\n",
        "\n",
        "        if i% math.ceil(num_iters/10) == 0 or i == (num_iters-1):\n",
        "            w_history.append(w_in)\n",
        "            print(f\"Iteration {i:4}: Cost {float(J_history[-1]):8.2f}   \")\n",
        "        \n",
        "    return w_in, b_in, J_history, w_history "
      ],
      "metadata": {
        "id": "StO35kgUUbOK"
      },
      "execution_count": 103,
      "outputs": []
    },
    {
      "cell_type": "code",
      "source": [
        "def predict(X, w, b): \n",
        "    m, n = X.shape   \n",
        "    p = np.zeros(m)\n",
        "    for i in range(m):   \n",
        "        z_wb = 0\n",
        "        for j in range(n): \n",
        "            z_wb_ij=w[j]*X[i][j]\n",
        "            z_wb += z_wb_ij\n",
        "         \n",
        "        z_wb += b\n",
        "        \n",
        "\n",
        "        f_wb = float(sigmoid(z_wb))\n",
        "\n",
        "        p[i] =f_wb\n",
        "    return p"
      ],
      "metadata": {
        "id": "xZsQdmuYVBFq"
      },
      "execution_count": 104,
      "outputs": []
    },
    {
      "cell_type": "code",
      "source": [
        "np.random.seed(1)\n",
        "m,n=x.shape\n",
        "intial_w = np.zeros(n)\n",
        "initial_b = -8\n",
        "\n",
        "iterations = 11000\n",
        "alpha = 0.001\n",
        "\n",
        "w,b, J_history,_ = gradient_descent(x ,y[:,0], intial_w, initial_b, compute_cost, compute_gradient, alpha, iterations, 0)"
      ],
      "metadata": {
        "colab": {
          "base_uri": "https://localhost:8080/"
        },
        "id": "QRRHd54CU-Bl",
        "outputId": "991776a4-afaf-44e1-8531-da97befa14a5"
      },
      "execution_count": 105,
      "outputs": [
        {
          "output_type": "stream",
          "name": "stdout",
          "text": [
            "Iteration    0: Cost     2.66   \n",
            "Iteration 1100: Cost     0.68   \n",
            "Iteration 2200: Cost     0.36   \n",
            "Iteration 3300: Cost     0.23   \n",
            "Iteration 4400: Cost     0.17   \n",
            "Iteration 5500: Cost     0.13   \n",
            "Iteration 6600: Cost     0.11   \n",
            "Iteration 7700: Cost     0.09   \n",
            "Iteration 8800: Cost     0.08   \n",
            "Iteration 9900: Cost     0.07   \n",
            "Iteration 10999: Cost     0.06   \n"
          ]
        }
      ]
    },
    {
      "cell_type": "code",
      "source": [
        "ypred1=predict(x,w,b)"
      ],
      "metadata": {
        "id": "0PeUfxDrbmzu"
      },
      "execution_count": 106,
      "outputs": []
    },
    {
      "cell_type": "code",
      "source": [
        "print(ypred1)"
      ],
      "metadata": {
        "colab": {
          "base_uri": "https://localhost:8080/"
        },
        "id": "ZEMUl4uvbtSB",
        "outputId": "a2735a49-c394-4329-a8fc-38eecfbd0779"
      },
      "execution_count": 107,
      "outputs": [
        {
          "output_type": "stream",
          "name": "stdout",
          "text": [
            "[0.94933984 0.85455455 0.88445188 0.80131254 0.95167249 0.96691217\n",
            " 0.88230321 0.92093943 0.71901321 0.86649541 0.97113518 0.88384188\n",
            " 0.84883669 0.82779913 0.993772   0.99327844 0.98264225 0.94509241\n",
            " 0.97517784 0.96157635 0.93374077 0.9505013  0.95772674 0.86056224\n",
            " 0.82249998 0.82784294 0.89281971 0.94762751 0.94690088 0.82336773\n",
            " 0.81603925 0.94301341 0.98303925 0.9910821  0.86649541 0.93030632\n",
            " 0.9738401  0.86649541 0.78325725 0.92991921 0.94688298 0.51773999\n",
            " 0.83814278 0.89376057 0.92227317 0.82570875 0.9584962  0.85064844\n",
            " 0.9672506  0.91987384 0.16669611 0.10478024 0.08826668 0.01908073\n",
            " 0.05216846 0.02642811 0.07507403 0.04191215 0.08169205 0.02844708\n",
            " 0.01713793 0.06535548 0.03866678 0.03484991 0.112136   0.15657354\n",
            " 0.02800193 0.06066047 0.01471068 0.04251267 0.02799092 0.09458564\n",
            " 0.01483572 0.03451943 0.10118142 0.11982611 0.05983144 0.04266835\n",
            " 0.03894557 0.11323452 0.03699324 0.04702033 0.07048623 0.00954183\n",
            " 0.02171881 0.08381916 0.09407273 0.0276814  0.06204602 0.02711742\n",
            " 0.01840614 0.04851942 0.05095941 0.03996535 0.03165396 0.06501724\n",
            " 0.05065505 0.07982669 0.0929605  0.0499601  0.00438439 0.00572024\n",
            " 0.0119212  0.00747623 0.00594798 0.00722246 0.00395716 0.00863684\n",
            " 0.0044185  0.0202604  0.03131597 0.00895076 0.01556586 0.0038048\n",
            " 0.00448231 0.01555495 0.01361591 0.02648181 0.00206939 0.00500909\n",
            " 0.01540379 0.00673923 0.0053087  0.0164469  0.0168187  0.02108713\n",
            " 0.02030995 0.02162619 0.00552406 0.0242006  0.01048778 0.06428525\n",
            " 0.00507622 0.01822054 0.004732   0.0157281  0.01099577 0.01429829\n",
            " 0.0223803  0.02480626 0.01079629 0.03404009 0.00572024 0.00977099\n",
            " 0.01202956 0.01886689 0.00900375 0.01876442 0.01457408 0.01209067]\n"
          ]
        }
      ]
    },
    {
      "cell_type": "code",
      "source": [
        "np.random.seed(1)\n",
        "m,n=x.shape\n",
        "intial_w = np.zeros(n)\n",
        "initial_b = -8\n",
        "\n",
        "iterations = 11000\n",
        "alpha = 0.001\n",
        "\n",
        "w,b, J_history,_ = gradient_descent(x ,y[:,1], intial_w, initial_b, compute_cost, compute_gradient, alpha, iterations, 0)"
      ],
      "metadata": {
        "colab": {
          "base_uri": "https://localhost:8080/"
        },
        "id": "x26X_9rkdjtM",
        "outputId": "62aba544-57dc-4852-e8ac-e7727d0ca1c6"
      },
      "execution_count": 108,
      "outputs": [
        {
          "output_type": "stream",
          "name": "stdout",
          "text": [
            "Iteration    0: Cost     2.66   \n",
            "Iteration 1100: Cost     0.74   \n",
            "Iteration 2200: Cost     0.73   \n",
            "Iteration 3300: Cost     0.72   \n",
            "Iteration 4400: Cost     0.71   \n",
            "Iteration 5500: Cost     0.71   \n",
            "Iteration 6600: Cost     0.71   \n",
            "Iteration 7700: Cost     0.70   \n",
            "Iteration 8800: Cost     0.70   \n",
            "Iteration 9900: Cost     0.70   \n",
            "Iteration 10999: Cost     0.69   \n"
          ]
        }
      ]
    },
    {
      "cell_type": "code",
      "source": [
        "ypred2=predict(x,w,b)"
      ],
      "metadata": {
        "id": "M2gTBEAfdj_8"
      },
      "execution_count": 109,
      "outputs": []
    },
    {
      "cell_type": "code",
      "source": [
        "print(ypred2)"
      ],
      "metadata": {
        "colab": {
          "base_uri": "https://localhost:8080/"
        },
        "id": "IA1qCDHcdkLX",
        "outputId": "8ad135da-d638-45cb-c1ce-8c6c208b7815"
      },
      "execution_count": 110,
      "outputs": [
        {
          "output_type": "stream",
          "name": "stdout",
          "text": [
            "[0.16331549 0.12554758 0.10798657 0.10014556 0.15316725 0.22032434\n",
            " 0.10143897 0.14981671 0.07910375 0.13391631 0.21815164 0.12847334\n",
            " 0.11864475 0.07233764 0.29497805 0.29016191 0.2081116  0.15873598\n",
            " 0.27747125 0.17034166 0.21307323 0.16257228 0.10194507 0.15119673\n",
            " 0.13469157 0.1410841  0.14360106 0.17985841 0.17399796 0.11334218\n",
            " 0.12122951 0.19614201 0.20574278 0.2524144  0.13391631 0.13768232\n",
            " 0.22120643 0.13391631 0.07939286 0.1627748  0.14379523 0.07303738\n",
            " 0.08268474 0.13807242 0.17587638 0.1117363  0.17782321 0.10050319\n",
            " 0.20184796 0.14476235 0.5889871  0.42548701 0.56014379 0.19671333\n",
            " 0.43235485 0.26715536 0.40754744 0.11919888 0.4790045  0.15902099\n",
            " 0.12413331 0.29100805 0.30242033 0.35632312 0.22294389 0.49707677\n",
            " 0.24397503 0.28827792 0.32784231 0.22885576 0.30171774 0.33035973\n",
            " 0.38207164 0.36687115 0.41700369 0.46702011 0.52320241 0.49333927\n",
            " 0.31867727 0.24360165 0.2053242  0.20790729 0.26740143 0.3253894\n",
            " 0.2095506  0.33553962 0.50220835 0.36635547 0.24309652 0.20379285\n",
            " 0.22545028 0.3572324  0.26662595 0.1274352  0.23434304 0.27181746\n",
            " 0.26087504 0.37011729 0.13358422 0.25318972 0.39093935 0.26358053\n",
            " 0.59731517 0.40925365 0.43840567 0.73357861 0.1194627  0.67766964\n",
            " 0.49351807 0.62852992 0.43471941 0.40100652 0.50669465 0.22758364\n",
            " 0.23598185 0.39499799 0.45848045 0.78112714 0.73289847 0.30494125\n",
            " 0.53439242 0.21888964 0.75380371 0.36859346 0.50776534 0.65850874\n",
            " 0.34691957 0.33881706 0.40310548 0.65564866 0.67898432 0.81491193\n",
            " 0.39497623 0.40656912 0.37885934 0.72164952 0.3870025  0.43962823\n",
            " 0.3132376  0.53221939 0.46680211 0.50170744 0.26358053 0.51893037\n",
            " 0.47388971 0.45171091 0.35475051 0.42832508 0.36340218 0.3038748 ]\n"
          ]
        }
      ]
    },
    {
      "cell_type": "code",
      "source": [
        "np.random.seed(1)\n",
        "m,n=x.shape\n",
        "intial_w = np.zeros(n)\n",
        "initial_b = -8\n",
        "\n",
        "iterations = 11000\n",
        "alpha = 0.001\n",
        "\n",
        "w,b, J_history,_ = gradient_descent(x ,y[:,2], intial_w, initial_b, compute_cost, compute_gradient, alpha, iterations, 0)"
      ],
      "metadata": {
        "colab": {
          "base_uri": "https://localhost:8080/"
        },
        "id": "972JGmHrfhnv",
        "outputId": "9b5647f7-778c-4380-ea6a-b5c21abd05d6"
      },
      "execution_count": 111,
      "outputs": [
        {
          "output_type": "stream",
          "name": "stdout",
          "text": [
            "Iteration    0: Cost     2.66   \n",
            "Iteration 1100: Cost     0.32   \n",
            "Iteration 2200: Cost     0.30   \n",
            "Iteration 3300: Cost     0.29   \n",
            "Iteration 4400: Cost     0.28   \n",
            "Iteration 5500: Cost     0.27   \n",
            "Iteration 6600: Cost     0.26   \n",
            "Iteration 7700: Cost     0.25   \n",
            "Iteration 8800: Cost     0.25   \n",
            "Iteration 9900: Cost     0.24   \n",
            "Iteration 10999: Cost     0.23   \n"
          ]
        }
      ]
    },
    {
      "cell_type": "code",
      "source": [
        "ypred3=predict(x,w,b)"
      ],
      "metadata": {
        "id": "SzXQNmNLfhzE"
      },
      "execution_count": 112,
      "outputs": []
    },
    {
      "cell_type": "code",
      "source": [
        "print(ypred3)"
      ],
      "metadata": {
        "colab": {
          "base_uri": "https://localhost:8080/"
        },
        "id": "89aA89CGfh8I",
        "outputId": "ee22f0cf-c5ec-41e1-9d26-99b251eb1700"
      },
      "execution_count": 113,
      "outputs": [
        {
          "output_type": "stream",
          "name": "stdout",
          "text": [
            "[0.00464129 0.00456575 0.00386477 0.0047994  0.00452537 0.00792197\n",
            " 0.00452973 0.00513184 0.00414286 0.00474401 0.00548717 0.00553236\n",
            " 0.00415913 0.00265011 0.00414282 0.00652026 0.00498453 0.00499192\n",
            " 0.00786903 0.00552418 0.00701966 0.00597014 0.00262041 0.00825156\n",
            " 0.00783025 0.00587614 0.00666484 0.00531951 0.00476017 0.00547383\n",
            " 0.00561391 0.00644    0.00480324 0.00486688 0.00474401 0.00365852\n",
            " 0.00448441 0.00474401 0.00367073 0.0052376  0.00435528 0.00416997\n",
            " 0.00363502 0.00766978 0.00943692 0.00481151 0.0057677  0.00425277\n",
            " 0.0053764  0.00459214 0.44053117 0.37238748 0.51292259 0.19915663\n",
            " 0.40967763 0.31168245 0.44001786 0.07209116 0.37846762 0.18003734\n",
            " 0.09264593 0.2759984  0.1818771  0.39919029 0.13391748 0.34404691\n",
            " 0.33710523 0.18959367 0.37426827 0.16194831 0.48618304 0.21533423\n",
            " 0.48952642 0.36579604 0.29177853 0.34053485 0.46410365 0.56918342\n",
            " 0.35679672 0.10269429 0.14480179 0.12285023 0.17661932 0.54812117\n",
            " 0.32800284 0.36803878 0.44461868 0.31837002 0.21604942 0.19759662\n",
            " 0.26635202 0.3704447  0.19498278 0.07380955 0.23911105 0.22706673\n",
            " 0.24106236 0.28337684 0.05757271 0.22122817 0.87356648 0.59184821\n",
            " 0.84584033 0.72591023 0.82287153 0.93218957 0.34324329 0.88026859\n",
            " 0.78730244 0.90196627 0.63733215 0.67431624 0.76396963 0.57872241\n",
            " 0.67537671 0.73026485 0.70961438 0.94223273 0.95918361 0.50696528\n",
            " 0.82703413 0.54134192 0.93670252 0.54185906 0.79777993 0.83342002\n",
            " 0.50646319 0.52799652 0.77187353 0.77563075 0.8653479  0.91187829\n",
            " 0.78450249 0.54401418 0.65812632 0.90068534 0.80035662 0.70435052\n",
            " 0.49375869 0.74528159 0.81536594 0.70480179 0.59184821 0.85537247\n",
            " 0.84093421 0.72126162 0.59082657 0.66600654 0.74301728 0.5754742 ]\n"
          ]
        }
      ]
    },
    {
      "cell_type": "code",
      "source": [
        "yfinal=[]\n",
        "for i in range(0,len(ypred1)):\n",
        "  if(ypred1[i]>ypred2[i] and ypred1[i]>ypred3[i]):\n",
        "    yfinal.append(\"Iris-setosa\")\n",
        "  elif(ypred2[i]>ypred1[i] and ypred2[i]>ypred3[i]):\n",
        "    yfinal.append(\"Iris-versicolor\")\n",
        "  elif(ypred3[i]>ypred1[i] and ypred3[i]>ypred2[i]):\n",
        "    yfinal.append(\"Iris-virginica\")\n",
        "yfinal=np.array(yfinal)"
      ],
      "metadata": {
        "id": "FREhGzXQgTFe"
      },
      "execution_count": 114,
      "outputs": []
    },
    {
      "cell_type": "code",
      "source": [
        "print(yfinal)"
      ],
      "metadata": {
        "colab": {
          "base_uri": "https://localhost:8080/"
        },
        "id": "9Rrqh-zLh74v",
        "outputId": "0223860f-2f49-4a83-baf6-eb80942b88ac"
      },
      "execution_count": 115,
      "outputs": [
        {
          "output_type": "stream",
          "name": "stdout",
          "text": [
            "['Iris-setosa' 'Iris-setosa' 'Iris-setosa' 'Iris-setosa' 'Iris-setosa'\n",
            " 'Iris-setosa' 'Iris-setosa' 'Iris-setosa' 'Iris-setosa' 'Iris-setosa'\n",
            " 'Iris-setosa' 'Iris-setosa' 'Iris-setosa' 'Iris-setosa' 'Iris-setosa'\n",
            " 'Iris-setosa' 'Iris-setosa' 'Iris-setosa' 'Iris-setosa' 'Iris-setosa'\n",
            " 'Iris-setosa' 'Iris-setosa' 'Iris-setosa' 'Iris-setosa' 'Iris-setosa'\n",
            " 'Iris-setosa' 'Iris-setosa' 'Iris-setosa' 'Iris-setosa' 'Iris-setosa'\n",
            " 'Iris-setosa' 'Iris-setosa' 'Iris-setosa' 'Iris-setosa' 'Iris-setosa'\n",
            " 'Iris-setosa' 'Iris-setosa' 'Iris-setosa' 'Iris-setosa' 'Iris-setosa'\n",
            " 'Iris-setosa' 'Iris-setosa' 'Iris-setosa' 'Iris-setosa' 'Iris-setosa'\n",
            " 'Iris-setosa' 'Iris-setosa' 'Iris-setosa' 'Iris-setosa' 'Iris-setosa'\n",
            " 'Iris-versicolor' 'Iris-versicolor' 'Iris-versicolor' 'Iris-virginica'\n",
            " 'Iris-versicolor' 'Iris-virginica' 'Iris-virginica' 'Iris-versicolor'\n",
            " 'Iris-versicolor' 'Iris-virginica' 'Iris-versicolor' 'Iris-versicolor'\n",
            " 'Iris-versicolor' 'Iris-virginica' 'Iris-versicolor' 'Iris-versicolor'\n",
            " 'Iris-virginica' 'Iris-versicolor' 'Iris-virginica' 'Iris-versicolor'\n",
            " 'Iris-virginica' 'Iris-versicolor' 'Iris-virginica' 'Iris-versicolor'\n",
            " 'Iris-versicolor' 'Iris-versicolor' 'Iris-versicolor' 'Iris-virginica'\n",
            " 'Iris-virginica' 'Iris-versicolor' 'Iris-versicolor' 'Iris-versicolor'\n",
            " 'Iris-versicolor' 'Iris-virginica' 'Iris-virginica' 'Iris-virginica'\n",
            " 'Iris-versicolor' 'Iris-versicolor' 'Iris-versicolor' 'Iris-versicolor'\n",
            " 'Iris-virginica' 'Iris-virginica' 'Iris-versicolor' 'Iris-versicolor'\n",
            " 'Iris-virginica' 'Iris-versicolor' 'Iris-versicolor' 'Iris-versicolor'\n",
            " 'Iris-versicolor' 'Iris-versicolor' 'Iris-virginica' 'Iris-virginica'\n",
            " 'Iris-virginica' 'Iris-virginica' 'Iris-virginica' 'Iris-virginica'\n",
            " 'Iris-virginica' 'Iris-virginica' 'Iris-virginica' 'Iris-virginica'\n",
            " 'Iris-virginica' 'Iris-virginica' 'Iris-virginica' 'Iris-virginica'\n",
            " 'Iris-virginica' 'Iris-virginica' 'Iris-virginica' 'Iris-virginica'\n",
            " 'Iris-virginica' 'Iris-virginica' 'Iris-virginica' 'Iris-virginica'\n",
            " 'Iris-virginica' 'Iris-virginica' 'Iris-virginica' 'Iris-virginica'\n",
            " 'Iris-virginica' 'Iris-virginica' 'Iris-virginica' 'Iris-virginica'\n",
            " 'Iris-virginica' 'Iris-virginica' 'Iris-virginica' 'Iris-virginica'\n",
            " 'Iris-virginica' 'Iris-virginica' 'Iris-virginica' 'Iris-virginica'\n",
            " 'Iris-virginica' 'Iris-virginica' 'Iris-virginica' 'Iris-virginica'\n",
            " 'Iris-virginica' 'Iris-virginica' 'Iris-virginica' 'Iris-virginica'\n",
            " 'Iris-virginica' 'Iris-virginica' 'Iris-virginica' 'Iris-virginica']\n"
          ]
        }
      ]
    },
    {
      "cell_type": "code",
      "source": [
        "from sklearn.metrics import confusion_matrix,accuracy_score\n",
        "cm=confusion_matrix(yoriginal,yfinal)\n",
        "print(cm)\n",
        "accuracy_score(yoriginal,yfinal)"
      ],
      "metadata": {
        "colab": {
          "base_uri": "https://localhost:8080/"
        },
        "id": "vomiNBytiHgr",
        "outputId": "5200e3d7-ae55-41df-adce-acf16a6650e8"
      },
      "execution_count": 116,
      "outputs": [
        {
          "output_type": "stream",
          "name": "stdout",
          "text": [
            "[[50  0  0]\n",
            " [ 0 33 17]\n",
            " [ 0  0 50]]\n"
          ]
        },
        {
          "output_type": "execute_result",
          "data": {
            "text/plain": [
              "0.8866666666666667"
            ]
          },
          "metadata": {},
          "execution_count": 116
        }
      ]
    }
  ]
}